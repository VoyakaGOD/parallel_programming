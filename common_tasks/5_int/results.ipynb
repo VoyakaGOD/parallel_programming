{
 "cells": [
  {
   "cell_type": "code",
   "execution_count": 1,
   "id": "f70beca8",
   "metadata": {},
   "outputs": [],
   "source": [
    "def showSpEp(Tp : list[float]):\n",
    "    Sp = {p : Tp[1]/Tp[p] for p in Tp if p != 1}\n",
    "    print(\"Sp:\", Sp)\n",
    "    print(\"Ep:\", {p : Sp[p]/p for p in Sp})"
   ]
  },
  {
   "cell_type": "markdown",
   "id": "914843e7",
   "metadata": {},
   "source": [
    "$$f(x) = \\sin(\\frac{1}{x+3})$$\n",
    "\n",
    "$$I = \\int\\limits_{-2.99}^{5} f(x) dx$$\n",
    "\n",
    "$$\\text{precision} = 10^{-6}$$"
   ]
  },
  {
   "cell_type": "code",
   "execution_count": 4,
   "id": "53285c11",
   "metadata": {},
   "outputs": [
    {
     "name": "stdout",
     "output_type": "stream",
     "text": [
      "Local machine:\n",
      "Sp: {2: 1.6084415584415586, 3: 2.0072933549432737, 4: 2.0187449062754688}\n",
      "Ep: {2: 0.8042207792207793, 3: 0.6690977849810912, 4: 0.5046862265688672}\n",
      "\n",
      "Cluster:\n",
      "Sp: {2: 1.4949309373923583, 3: 1.981347892296195, 4: 2.2775520159385465}\n",
      "Ep: {2: 0.7474654686961791, 3: 0.6604492974320649, 4: 0.5693880039846366}\n"
     ]
    }
   ],
   "source": [
    "print(\"Local machine:\")\n",
    "showSpEp({1: 0.002477, 2: 0.001540, 3: 0.001234, 4: 0.001227})\n",
    "print()\n",
    "print(\"Cluster:\")\n",
    "showSpEp({1: 0.004435487, 2: 0.002967018, 3: 0.002238621, 4: 0.00194748})"
   ]
  },
  {
   "cell_type": "markdown",
   "id": "35a2a766",
   "metadata": {},
   "source": [
    "$$f(x) = \\frac{1}{x^2}\\sin(\\frac{1}{x^2})$$\n",
    "\n",
    "$$I = \\int\\limits_{10^{-4}}^{1} f(x) dx$$\n",
    "\n",
    "$$\\text{precision} = 10^{-1}$$"
   ]
  },
  {
   "cell_type": "code",
   "execution_count": null,
   "id": "64becbd7",
   "metadata": {},
   "outputs": [
    {
     "name": "stdout",
     "output_type": "stream",
     "text": [
      "Local machine:\n",
      "Sp: {2: 1.7046435090364165, 3: 2.3055224072933798, 4: 2.8182565205170995, 5: 3.3412831007382993}\n",
      "Ep: {2: 0.8523217545182082, 3: 0.7685074690977932, 4: 0.7045641301292749, 5: 0.6682566201476599}\n",
      "\n",
      "Cluster:\n",
      "Sp: {2: 1.7607277080585468, 3: 2.6457063760437523, 4: 3.5427468129404, 5: 4.404847574240487}\n",
      "Ep: {2: 0.8803638540292734, 3: 0.8819021253479175, 4: 0.8856867032351, 5: 0.8809695148480975}\n"
     ]
    }
   ],
   "source": [
    "print(\"Local machine:\")\n",
    "showSpEp({1: 0.887388658, 2: 0.5205714, 3: 0.384897, 4: 0.3148715, 5: 0.2655832})\n",
    "print()\n",
    "print(\"Cluster:\")\n",
    "showSpEp({1: 1.782134507, 2: 1.012157927, 3: 0.67359497, 4: 0.503037502, 5: 0.40458483})\n",
    "\n",
    "# values for T1 was measured by V2 sequential algorithm\n",
    "# V3 value: T1 = 1.892491447 s"
   ]
  }
 ],
 "metadata": {
  "kernelspec": {
   "display_name": "Python 3",
   "language": "python",
   "name": "python3"
  },
  "language_info": {
   "codemirror_mode": {
    "name": "ipython",
    "version": 3
   },
   "file_extension": ".py",
   "mimetype": "text/x-python",
   "name": "python",
   "nbconvert_exporter": "python",
   "pygments_lexer": "ipython3",
   "version": "3.12.2"
  }
 },
 "nbformat": 4,
 "nbformat_minor": 5
}

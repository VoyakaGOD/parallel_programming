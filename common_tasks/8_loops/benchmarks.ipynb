{
 "cells": [
  {
   "cell_type": "code",
   "execution_count": null,
   "id": "3812a2bf",
   "metadata": {},
   "outputs": [],
   "source": [
    "import matplotlib.pyplot as plt\n",
    "\n",
    "seq = 0.360593\n",
    "n       = [1,        2,        4,        8]\n",
    "par_omp = [0.586624, 0.431774, 0.300049, 0.200526]\n",
    "\n",
    "plt.plot(n, [seq/x for x in par_omp])\n",
    "plt.xlabel(\"n\")\n",
    "plt.ylabel(\"S\")"
   ]
  }
 ],
 "metadata": {
  "kernelspec": {
   "display_name": "Python 3",
   "language": "python",
   "name": "python3"
  },
  "language_info": {
   "name": "python",
   "version": "3.12.2"
  }
 },
 "nbformat": 4,
 "nbformat_minor": 5
}

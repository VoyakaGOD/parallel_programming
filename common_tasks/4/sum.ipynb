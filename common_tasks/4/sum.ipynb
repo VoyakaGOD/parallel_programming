{
 "cells": [
  {
   "cell_type": "code",
   "execution_count": 2,
   "id": "9ce2f12e",
   "metadata": {},
   "outputs": [],
   "source": [
    "def showSpEp(Tp : list[float]):\n",
    "    Sp = {p : Tp[1]/Tp[p] for p in Tp if p != 1}\n",
    "    print(\"Sp:\", Sp)\n",
    "    print(\"Ep:\", {p : Sp[p]/p for p in Sp})"
   ]
  },
  {
   "cell_type": "markdown",
   "id": "5916408c",
   "metadata": {},
   "source": [
    "$$\\sum\\limits_{n=1}^{10^8}$$"
   ]
  },
  {
   "cell_type": "code",
   "execution_count": null,
   "id": "9825242a",
   "metadata": {},
   "outputs": [
    {
     "name": "stdout",
     "output_type": "stream",
     "text": [
      "Sp: {2: 1.9954339565283479, 4: 3.975215991027273, 8: 7.866235244772006}\n",
      "Ep: {2: 0.9977169782641739, 4: 0.9938039977568183, 8: 0.9832794055965007}\n"
     ]
    }
   ],
   "source": [
    "showSpEp({1: 0.328199, 2: 0.164475, 4: 0.0825613, 8: 0.0417225})"
   ]
  }
 ],
 "metadata": {
  "kernelspec": {
   "display_name": "Python 3",
   "language": "python",
   "name": "python3"
  },
  "language_info": {
   "codemirror_mode": {
    "name": "ipython",
    "version": 3
   },
   "file_extension": ".py",
   "mimetype": "text/x-python",
   "name": "python",
   "nbconvert_exporter": "python",
   "pygments_lexer": "ipython3",
   "version": "3.12.2"
  }
 },
 "nbformat": 4,
 "nbformat_minor": 5
}

{
 "cells": [
  {
   "cell_type": "markdown",
   "id": "5a882090",
   "metadata": {},
   "source": [
    "Замеры на сетке 250x1000 на 1000 итераций.\n",
    "\n",
    "В начальном состоянии присутствует только глайдер в верхнем левом углу."
   ]
  },
  {
   "cell_type": "code",
   "execution_count": 2,
   "id": "2557abcc",
   "metadata": {},
   "outputs": [],
   "source": [
    "def showSpEp(Tp : list[float]):\n",
    "    Sp = {p : Tp[1]/Tp[p] for p in Tp if p != 1}\n",
    "    print(\"Sp:\", Sp)\n",
    "    print(\"Ep:\", {p : Sp[p]/p for p in Sp})"
   ]
  },
  {
   "cell_type": "markdown",
   "id": "e514bf46",
   "metadata": {},
   "source": [
    "MPI-версия в зависимости от количества процессов"
   ]
  },
  {
   "cell_type": "code",
   "execution_count": null,
   "id": "a24aa878",
   "metadata": {},
   "outputs": [
    {
     "name": "stdout",
     "output_type": "stream",
     "text": [
      "without optimization:\n",
      "Sp: {2: 1.9810221690354806, 4: 3.968337193672255, 8: 7.924253220779108, 12: 10.91730106723843, 16: 13.45765215971016}\n",
      "Ep: {2: 0.9905110845177403, 4: 0.9920842984180638, 8: 0.9905316525973885, 12: 0.9097750889365358, 16: 0.841103259981885}\n",
      "with optimization:\n",
      "Sp: {2: 1.9828207638497681, 4: 3.9713453802942804, 8: 7.947409380377715, 12: 11.395105422633492, 16: 14.15353923394354}\n",
      "Ep: {2: 0.9914103819248841, 4: 0.9928363450735701, 8: 0.9934261725472143, 12: 0.949592118552791, 16: 0.8845962021214713}\n"
     ]
    }
   ],
   "source": [
    "print(\"without optimization:\")\n",
    "showSpEp({1: 36.2533, 2: 18.3003, 4: 9.13564, 8: 4.57498, 12: 3.32072, 16: 2.69388})\n",
    "print(\"with optimization:\")\n",
    "showSpEp({1: 36.2533, 2: 18.2837, 4: 9.12872, 8: 4.56165, 12: 3.18148, 16: 2.56143})"
   ]
  },
  {
   "cell_type": "markdown",
   "id": "eda85419",
   "metadata": {},
   "source": [
    "Гибридный алгоритм(MPI + потоки) на двух узлах в зависимости от  числа потоков"
   ]
  },
  {
   "cell_type": "code",
   "execution_count": 5,
   "id": "0b17f257",
   "metadata": {},
   "outputs": [
    {
     "name": "stdout",
     "output_type": "stream",
     "text": [
      "without optimization:\n",
      "Sp: {2: 1.9534352738975005, 4: 3.710509689339236, 8: 6.68778940486326}\n",
      "Ep: {2: 0.9767176369487502, 4: 0.927627422334809, 8: 0.8359736756079075}\n",
      "with optimization:\n",
      "Sp: {2: 1.979443074582252, 4: 3.913667775404789, 8: 7.3007976055912}\n",
      "Ep: {2: 0.989721537291126, 4: 0.9784169438511973, 8: 0.9125997006989}\n"
     ]
    }
   ],
   "source": [
    "print(\"without optimization:\")\n",
    "showSpEp({1: 18.617, 2: 9.53039, 4: 5.01737, 8: 2.78373})\n",
    "print(\"with optimization:\")\n",
    "showSpEp({1: 18.3434, 2: 9.26695, 4: 4.68701, 8: 2.51252})"
   ]
  },
  {
   "cell_type": "markdown",
   "id": "c8ce7fc8",
   "metadata": {},
   "source": [
    "Потоки на одном узле"
   ]
  },
  {
   "cell_type": "code",
   "execution_count": 6,
   "id": "409638be",
   "metadata": {},
   "outputs": [
    {
     "name": "stdout",
     "output_type": "stream",
     "text": [
      "Sp: {2: 2.001068838693057, 4: 3.959328379251856, 8: 7.814432460085234}\n",
      "Ep: {2: 1.0005344193465284, 4: 0.989832094812964, 8: 0.9768040575106542}\n"
     ]
    }
   ],
   "source": [
    "showSpEp({1: 36.5077, 2: 18.2441, 4: 9.22068, 8: 4.67183})"
   ]
  },
  {
   "cell_type": "markdown",
   "id": "8d8da24d",
   "metadata": {},
   "source": [
    "Влияние оптимизации на сетке 20x1000 в случае алгоритма на MPI.\n",
    "\n",
    "Латентность канала."
   ]
  },
  {
   "cell_type": "code",
   "execution_count": 4,
   "id": "ed7d6301",
   "metadata": {},
   "outputs": [
    {
     "name": "stdout",
     "output_type": "stream",
     "text": [
      "without optimization:\n",
      "Sp: {4: 3.925898319405744, 16: 8.541195273235001}\n",
      "Ep: {4: 0.981474579851436, 16: 0.5338247045771876}\n",
      "with optimization:\n",
      "Sp: {4: 3.9606691243939385, 16: 12.850140703650368}\n",
      "Ep: {4: 0.9901672810984846, 16: 0.803133793978148}\n"
     ]
    }
   ],
   "source": [
    "print(\"without optimization:\")\n",
    "showSpEp({1: 2.91792, 4: 0.743249, 16: 0.341629})\n",
    "print(\"with optimization:\")\n",
    "showSpEp({1: 2.91792, 4: 0.736724, 16: 0.227073})"
   ]
  }
 ],
 "metadata": {
  "kernelspec": {
   "display_name": "Python 3",
   "language": "python",
   "name": "python3"
  },
  "language_info": {
   "codemirror_mode": {
    "name": "ipython",
    "version": 3
   },
   "file_extension": ".py",
   "mimetype": "text/x-python",
   "name": "python",
   "nbconvert_exporter": "python",
   "pygments_lexer": "ipython3",
   "version": "3.12.2"
  }
 },
 "nbformat": 4,
 "nbformat_minor": 5
}
